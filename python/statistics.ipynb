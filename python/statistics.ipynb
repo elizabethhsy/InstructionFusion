{
 "cells": [
  {
   "cell_type": "code",
   "execution_count": 78,
   "metadata": {},
   "outputs": [],
   "source": [
    "import numpy as np\n",
    "import matplotlib.pyplot as plt\n",
    "import pandas as pd\n",
    "import math\n",
    "import json\n",
    "import os\n",
    "import matplotlib.pyplot as plt\n",
    "from matplotlib.ticker import LogLocator, FuncFormatter"
   ]
  },
  {
   "cell_type": "code",
   "execution_count": 87,
   "metadata": {},
   "outputs": [
    {
     "name": "stdout",
     "output_type": "stream",
     "text": [
      "defaulting to most recent experiment: 2025_05_14_10:03:07.569900\n"
     ]
    }
   ],
   "source": [
    "with open('config.json') as f:\n",
    "    data = json.load(f)\n",
    "\n",
    "if (data['dirName'] != \"\"):\n",
    "    full_path = f\"{data['dirPath']}/{data['dirName']}\"\n",
    "else:\n",
    "    # get the most recently run experiment\n",
    "    path = data['dirPath']\n",
    "    folder_names = sorted([f for f in os.listdir(path) if os.path.isdir(os.path.join(path, f))])\n",
    "    most_recent = folder_names[-1]\n",
    "    print(f\"defaulting to most recent experiment: {most_recent}\")\n",
    "    full_path = f\"{path}/{most_recent}\""
   ]
  },
  {
   "cell_type": "code",
   "execution_count": 88,
   "metadata": {},
   "outputs": [],
   "source": [
    "csv_path = f\"{full_path}/statistics.csv\"\n",
    "img_path = f\"{full_path}/statistics.png\""
   ]
  },
  {
   "cell_type": "code",
   "execution_count": 89,
   "metadata": {},
   "outputs": [],
   "source": [
    "df = pd.read_csv(csv_path)"
   ]
  },
  {
   "cell_type": "code",
   "execution_count": 90,
   "metadata": {},
   "outputs": [
    {
     "data": {
      "text/html": [
       "<div>\n",
       "<style scoped>\n",
       "    .dataframe tbody tr th:only-of-type {\n",
       "        vertical-align: middle;\n",
       "    }\n",
       "\n",
       "    .dataframe tbody tr th {\n",
       "        vertical-align: top;\n",
       "    }\n",
       "\n",
       "    .dataframe thead th {\n",
       "        text-align: right;\n",
       "    }\n",
       "</style>\n",
       "<table border=\"1\" class=\"dataframe\">\n",
       "  <thead>\n",
       "    <tr style=\"text-align: right;\">\n",
       "      <th></th>\n",
       "      <th>title</th>\n",
       "      <th>seconds</th>\n",
       "      <th>num_instructions</th>\n",
       "      <th>instructions_per_second</th>\n",
       "    </tr>\n",
       "  </thead>\n",
       "  <tbody>\n",
       "    <tr>\n",
       "      <th>0</th>\n",
       "      <td>fusion::InstructionCountExperiment</td>\n",
       "      <td>3.721147</td>\n",
       "      <td>271036826384</td>\n",
       "      <td>7.283690e+10</td>\n",
       "    </tr>\n",
       "    <tr>\n",
       "      <th>1</th>\n",
       "      <td>fusion::InstructionCountExperiment</td>\n",
       "      <td>3.655183</td>\n",
       "      <td>271036826384</td>\n",
       "      <td>7.415136e+10</td>\n",
       "    </tr>\n",
       "    <tr>\n",
       "      <th>2</th>\n",
       "      <td>fusion::PipelineExperiment&lt;fusion::InOrderPipe...</td>\n",
       "      <td>4.562234</td>\n",
       "      <td>271036826384</td>\n",
       "      <td>5.940879e+10</td>\n",
       "    </tr>\n",
       "    <tr>\n",
       "      <th>3</th>\n",
       "      <td>fusion::InstructionCountExperiment</td>\n",
       "      <td>3.717783</td>\n",
       "      <td>271036826384</td>\n",
       "      <td>7.290281e+10</td>\n",
       "    </tr>\n",
       "    <tr>\n",
       "      <th>4</th>\n",
       "      <td>fusion::InstructionCountExperiment</td>\n",
       "      <td>3.621696</td>\n",
       "      <td>271036826384</td>\n",
       "      <td>7.483698e+10</td>\n",
       "    </tr>\n",
       "    <tr>\n",
       "      <th>...</th>\n",
       "      <td>...</td>\n",
       "      <td>...</td>\n",
       "      <td>...</td>\n",
       "      <td>...</td>\n",
       "    </tr>\n",
       "    <tr>\n",
       "      <th>296</th>\n",
       "      <td>fusion::PipelineExperiment&lt;fusion::InOrderPipe...</td>\n",
       "      <td>4.636959</td>\n",
       "      <td>271036826384</td>\n",
       "      <td>5.845141e+10</td>\n",
       "    </tr>\n",
       "    <tr>\n",
       "      <th>297</th>\n",
       "      <td>fusion::InstructionCountExperiment</td>\n",
       "      <td>3.615922</td>\n",
       "      <td>271036826384</td>\n",
       "      <td>7.495649e+10</td>\n",
       "    </tr>\n",
       "    <tr>\n",
       "      <th>298</th>\n",
       "      <td>fusion::InstructionCountExperiment</td>\n",
       "      <td>3.642767</td>\n",
       "      <td>271036826384</td>\n",
       "      <td>7.440411e+10</td>\n",
       "    </tr>\n",
       "    <tr>\n",
       "      <th>299</th>\n",
       "      <td>fusion::PipelineExperiment&lt;fusion::InOrderPipe...</td>\n",
       "      <td>4.510934</td>\n",
       "      <td>271036826384</td>\n",
       "      <td>6.008442e+10</td>\n",
       "    </tr>\n",
       "    <tr>\n",
       "      <th>300</th>\n",
       "      <td>performance analysis with pipeline starting fr...</td>\n",
       "      <td>883.688729</td>\n",
       "      <td>81311047915200</td>\n",
       "      <td>9.201322e+10</td>\n",
       "    </tr>\n",
       "  </tbody>\n",
       "</table>\n",
       "<p>301 rows × 4 columns</p>\n",
       "</div>"
      ],
      "text/plain": [
       "                                                 title     seconds  \\\n",
       "0                   fusion::InstructionCountExperiment    3.721147   \n",
       "1                   fusion::InstructionCountExperiment    3.655183   \n",
       "2    fusion::PipelineExperiment<fusion::InOrderPipe...    4.562234   \n",
       "3                   fusion::InstructionCountExperiment    3.717783   \n",
       "4                   fusion::InstructionCountExperiment    3.621696   \n",
       "..                                                 ...         ...   \n",
       "296  fusion::PipelineExperiment<fusion::InOrderPipe...    4.636959   \n",
       "297                 fusion::InstructionCountExperiment    3.615922   \n",
       "298                 fusion::InstructionCountExperiment    3.642767   \n",
       "299  fusion::PipelineExperiment<fusion::InOrderPipe...    4.510934   \n",
       "300  performance analysis with pipeline starting fr...  883.688729   \n",
       "\n",
       "     num_instructions  instructions_per_second  \n",
       "0        271036826384             7.283690e+10  \n",
       "1        271036826384             7.415136e+10  \n",
       "2        271036826384             5.940879e+10  \n",
       "3        271036826384             7.290281e+10  \n",
       "4        271036826384             7.483698e+10  \n",
       "..                ...                      ...  \n",
       "296      271036826384             5.845141e+10  \n",
       "297      271036826384             7.495649e+10  \n",
       "298      271036826384             7.440411e+10  \n",
       "299      271036826384             6.008442e+10  \n",
       "300    81311047915200             9.201322e+10  \n",
       "\n",
       "[301 rows x 4 columns]"
      ]
     },
     "execution_count": 90,
     "metadata": {},
     "output_type": "execute_result"
    }
   ],
   "source": [
    "df"
   ]
  },
  {
   "cell_type": "code",
   "execution_count": 91,
   "metadata": {},
   "outputs": [],
   "source": [
    "allowed_titles = ['fusion::InstructionCountExperiment', 'fusion::PipelineExperiment<fusion::InOrderPipeline>']\n",
    "df = df[df['title'].isin(allowed_titles)]\n",
    "grouped = df.groupby(['title'], dropna=False, sort=False)"
   ]
  },
  {
   "cell_type": "code",
   "execution_count": 92,
   "metadata": {},
   "outputs": [],
   "source": [
    "reference_names  = ['KVM', 'QEMU', 'gem5', 'ChampSim']\n",
    "reference_values = [2000000000, 366000000, 1000000, 142450]\n",
    "reference_mins   = [1400000000, 218000000, 100000, 27777]\n",
    "reference_maxs   = [4000000000, 500000000, 5000000, 450000]"
   ]
  },
  {
   "cell_type": "code",
   "execution_count": 94,
   "metadata": {},
   "outputs": [
    {
     "data": {
      "image/png": "[encoded data removed]",
      "text/plain": [
       "<Figure size 1000x600 with 1 Axes>"
      ]
     },
     "metadata": {},
     "output_type": "display_data"
    }
   ],
   "source": [
    "summary = (\n",
    "    grouped['instructions_per_second']\n",
    "        .agg(['mean', 'min', 'max'])\n",
    "        .reset_index()\n",
    ")\n",
    "\n",
    "custom_titles = {\n",
    "    'fusion::InstructionCountExperiment': 'HistoSim:\\nInstruction Count',\n",
    "    'fusion::PipelineExperiment<fusion::InOrderPipeline>': 'HistoSim:\\nPipeline'\n",
    "}\n",
    "\n",
    "summary['group'] = (\n",
    "    summary['title']\n",
    "        .map(custom_titles)\n",
    "        .fillna(summary['title'])\n",
    ")\n",
    "\n",
    "reference_df = pd.DataFrame({\n",
    "    'group': reference_names,\n",
    "    'mean' : reference_values,\n",
    "    'min'  : reference_mins,\n",
    "    'max'  : reference_maxs\n",
    "})\n",
    "\n",
    "summary_all = pd.concat([summary, reference_df], ignore_index=True)\n",
    "x = np.arange(len(summary_all))\n",
    "fig, ax = plt.subplots(figsize=(10, 6))\n",
    "plt.style.use('seaborn-whitegrid')\n",
    "\n",
    "ax.bar(\n",
    "    x,\n",
    "    summary_all['mean'],\n",
    "    width      = 0.6,\n",
    "    alpha=0.30,\n",
    "    linewidth  = 1.8,\n",
    "    zorder     = 3\n",
    ")\n",
    "\n",
    "ax.errorbar(\n",
    "    x,\n",
    "    summary_all['mean'],\n",
    "    yerr=[summary_all['mean'] - summary_all['min'],\n",
    "          summary_all['max']  - summary_all['mean']],\n",
    "    fmt        = 'none',\n",
    "    capsize    = 10,\n",
    "    linewidth  = 2,\n",
    "    color      = (0.1, 0.3, 0.8, 1.0),\n",
    "    zorder     = 4\n",
    ")\n",
    "\n",
    "ax.set_yscale('log')\n",
    "ax.set_ylabel('Instructions Per Second (log scale)')\n",
    "\n",
    "ax.set_xticks(x)\n",
    "ax.set_xticklabels(summary_all['group'])\n",
    "ax.set_xlabel('Library')\n",
    "ax.set_title('Relative Performance of Libraries')\n",
    "\n",
    "ax.grid(axis='x', which='both', linestyle='', linewidth=0)\n",
    "ax.grid(axis='y', which='major', linestyle='--', alpha=0.5)\n",
    "\n",
    "# plt.tight_layout()\n",
    "plt.savefig(img_path, dpi=300, bbox_inches='tight')\n",
    "plt.show()\n"
   ]
  }
 ],
 "metadata": {
  "kernelspec": {
   "display_name": "data-analysis",
   "language": "python",
   "name": "python3"
  },
  "language_info": {
   "codemirror_mode": {
    "name": "ipython",
    "version": 3
   },
   "file_extension": ".py",
   "mimetype": "text/x-python",
   "name": "python",
   "nbconvert_exporter": "python",
   "pygments_lexer": "ipython3",
   "version": "3.10.4"
  }
 },
 "nbformat": 4,
 "nbformat_minor": 2
}
