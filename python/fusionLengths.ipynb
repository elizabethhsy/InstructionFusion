{
 "cells": [
  {
   "cell_type": "markdown",
   "metadata": {},
   "source": [
    "# Fusion lengths\n",
    "Plot a frequency diagram of fusion lengths against the dynamic count for each file."
   ]
  },
  {
   "cell_type": "code",
   "execution_count": 1,
   "metadata": {},
   "outputs": [],
   "source": [
    "import numpy as numpy\n",
    "import matplotlib.pyplot as plt\n",
    "import pandas as pd\n",
    "import math\n",
    "import json\n",
    "import os"
   ]
  },
  {
   "cell_type": "code",
   "execution_count": 2,
   "metadata": {},
   "outputs": [
    {
     "name": "stdout",
     "output_type": "stream",
     "text": [
      "defaulting to most recent experiment: 2025_01_09_02:11:46.836674\n"
     ]
    }
   ],
   "source": [
    "with open('config.json') as f:\n",
    "    data = json.load(f)\n",
    "\n",
    "if (data['dirName'] != \"\"):\n",
    "    full_path = f\"{data['dirPath']}/{data['dirName']}\"\n",
    "else:\n",
    "    # get the most recently run experiment\n",
    "    path = data['dirPath']\n",
    "    folder_names = [f for f in os.listdir(path) if os.path.isdir(os.path.join(path, f))]\n",
    "    most_recent = folder_names[-1]\n",
    "    print(f\"defaulting to most recent experiment: {most_recent}\")\n",
    "    full_path = f\"{path}/{most_recent}\""
   ]
  },
  {
   "cell_type": "code",
   "execution_count": 3,
   "metadata": {},
   "outputs": [],
   "source": [
    "csv_path = f\"{full_path}/fusionLengths.csv\"\n",
    "img_path = f\"{full_path}/fusionLengths.png\""
   ]
  },
  {
   "cell_type": "code",
   "execution_count": 4,
   "metadata": {},
   "outputs": [],
   "source": [
    "df = pd.read_csv(csv_path)"
   ]
  },
  {
   "cell_type": "code",
   "execution_count": 5,
   "metadata": {},
   "outputs": [],
   "source": [
    "aggregated_data = df.groupby(['file', 'rule_title', 'user_defined_key', 'fusion_length']).agg(\n",
    "    total_count=('count', 'sum'),\n",
    ")"
   ]
  },
  {
   "cell_type": "code",
   "execution_count": 7,
   "metadata": {},
   "outputs": [],
   "source": [
    "aggregated_data = aggregated_data.reset_index()\n",
    "grouped = aggregated_data.groupby(['user_defined_key', 'file', 'rule_title'])"
   ]
  },
  {
   "cell_type": "code",
   "execution_count": null,
   "metadata": {},
   "outputs": [],
   "source": [
    "num_groups = len(grouped)\n",
    "cols = 4\n",
    "rows = math.ceil(num_groups / cols)\n",
    "fig, axes = plt.subplots(rows, cols, figsize=(15, 5 * rows))\n",
    "axes = axes.flatten()\n",
    "\n",
    "for i, (group_name, group_data) in enumerate(grouped):\n",
    "    data = group_data.reset_index()\n",
    "    group_title = (\n",
    "        f\"{group_name[1]}: {group_name[2]} \"\n",
    "        f\"Max {data['user_defined_key']}\\n\"\n",
    "    )\n",
    "\n",
    "    axes[i].bar(data['fusion_length'], data['total_count'])\n",
    "    axes[i].set_title(f'{group_name}')\n",
    "    axes[i].set_xlabel('Fusion Length')\n",
    "    axes[i].set_ylabel('Dynamic Count')\n",
    "    axes[i].tick_params(axis='x')\n",
    "    max_x = max(group_data['fusion_length'].max()+1, 5)\n",
    "    axes[i].set_xlim(left=0, right=max_x)\n",
    "    axes[i].grid(axis='y')\n",
    "\n",
    "for j in range(i + 1, len(axes)):\n",
    "    fig.delaxes(axes[j])\n",
    "\n",
    "plt.tight_layout()\n",
    "plt.savefig(img_path, dpi=150, bbox_inches='tight')\n",
    "plt.show()"
   ]
  }
 ],
 "metadata": {
  "kernelspec": {
   "display_name": "data-analysis",
   "language": "python",
   "name": "python3"
  },
  "language_info": {
   "codemirror_mode": {
    "name": "ipython",
    "version": 3
   },
   "file_extension": ".py",
   "mimetype": "text/x-python",
   "name": "python",
   "nbconvert_exporter": "python",
   "pygments_lexer": "ipython3",
   "version": "3.10.4"
  }
 },
 "nbformat": 4,
 "nbformat_minor": 2
}
