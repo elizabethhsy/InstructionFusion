{
 "cells": [
  {
   "cell_type": "markdown",
   "metadata": {},
   "source": [
    "# Fusion lengths\n",
    "Plot a frequency diagram of fusion lengths against the dynamic count for each file."
   ]
  },
  {
   "cell_type": "code",
   "execution_count": 30,
   "metadata": {},
   "outputs": [],
   "source": [
    "import numpy as numpy\n",
    "import matplotlib.pyplot as plt\n",
    "import pandas as pd\n",
    "import math\n",
    "import json\n",
    "import os\n",
    "from matplotlib.ticker import MaxNLocator"
   ]
  },
  {
   "cell_type": "code",
   "execution_count": 31,
   "metadata": {},
   "outputs": [
    {
     "name": "stdout",
     "output_type": "stream",
     "text": [
      "defaulting to most recent experiment: 2025_04_16_17:58:46.107384\n"
     ]
    }
   ],
   "source": [
    "with open('config.json') as f:\n",
    "    data = json.load(f)\n",
    "\n",
    "if (data['dirName'] != \"\"):\n",
    "    full_path = f\"{data['dirPath']}/{data['dirName']}\"\n",
    "else:\n",
    "    # get the most recently run experiment\n",
    "    path = data['dirPath']\n",
    "    folder_names = sorted([f for f in os.listdir(path) if os.path.isdir(os.path.join(path, f))])\n",
    "    most_recent = folder_names[-1]\n",
    "    print(f\"defaulting to most recent experiment: {most_recent}\")\n",
    "    full_path = f\"{path}/{most_recent}\""
   ]
  },
  {
   "cell_type": "code",
   "execution_count": 32,
   "metadata": {},
   "outputs": [],
   "source": [
    "csv_path = f\"{full_path}/fusionLengths.csv\"\n",
    "img_path = f\"{full_path}/fusionLengths.png\""
   ]
  },
  {
   "cell_type": "code",
   "execution_count": 33,
   "metadata": {},
   "outputs": [],
   "source": [
    "df = pd.read_csv(csv_path)"
   ]
  },
  {
   "cell_type": "code",
   "execution_count": 34,
   "metadata": {},
   "outputs": [],
   "source": [
    "aggregated_data = df.groupby(['rule_title', 'user_defined_key', 'fusion_length']).agg(\n",
    "    total_count=('count', 'sum'),\n",
    ")"
   ]
  },
  {
   "cell_type": "code",
   "execution_count": 35,
   "metadata": {},
   "outputs": [],
   "source": [
    "aggregated_data = aggregated_data.reset_index()\n",
    "allowed_titles = ['arithmetic end memory/branch']\n",
    "aggregated_data = aggregated_data[aggregated_data['rule_title'].isin(allowed_titles) & (aggregated_data['user_defined_key'] == \"l-0\")]\n",
    "grouped = aggregated_data.groupby(['rule_title', 'user_defined_key'])"
   ]
  },
  {
   "cell_type": "code",
   "execution_count": 42,
   "metadata": {},
   "outputs": [
    {
     "name": "stdout",
     "output_type": "stream",
     "text": [
      "[(143, 33825), (127, 32619882), (45, 13431), (39, 8925), (36, 994), (33, 471967), (32, 12437), (29, 542009), (28, 180), (27, 1530287), (26, 180), (25, 117), (24, 7969), (22, 1065355), (21, 8086), (20, 51451), (19, 15745963), (18, 1623134), (17, 171407), (16, 3248521), (15, 391040), (14, 2189425), (13, 16901410), (12, 7146906), (11, 9811401), (10, 106496302), (9, 60165624), (8, 413851685), (7, 504791406), (6, 1769139604), (5, 5349267423), (4, 10992477228), (3, 20569282700), (2, 26677208196), (1, 61113067471)]\n",
      "0.07332297927301575\n"
     ]
    },
    {
     "data": {
      "image/png": "[encoded data removed]",
      "text/plain": [
       "<Figure size 2000x500 with 1 Axes>"
      ]
     },
     "metadata": {},
     "output_type": "display_data"
    }
   ],
   "source": [
    "num_groups = len(grouped)\n",
    "cols = 2\n",
    "rows = math.ceil(num_groups / cols)\n",
    "fig, axes = plt.subplots(rows, cols, figsize=(20, 5 * rows))\n",
    "axes = axes.flatten()\n",
    "\n",
    "for i, (group_name, group_data) in enumerate(grouped):\n",
    "    data = group_data.reset_index()\n",
    "    group_title = (\n",
    "        f\"{group_name[0]}\\n\"\n",
    "        # f\"Max {group_name[1]}\\n\"\n",
    "    )\n",
    "\n",
    "    axes[i].bar(data['fusion_length'], data['total_count'])\n",
    "    axes[i].set_title(f'Fusion Lengths Versus Dynamic Count')\n",
    "    axes[i].set_xlabel('Fusion Length')\n",
    "    axes[i].set_ylabel('Dynamic Count')\n",
    "    axes[i].tick_params(axis='x')\n",
    "    max_x = max(group_data['fusion_length'].max()+1, 5)\n",
    "    axes[i].set_xlim(left=0, right=20)\n",
    "    axes[i].grid(axis='y')\n",
    "    axes[i].xaxis.set_major_locator(MaxNLocator(integer=True))\n",
    "\n",
    "    print(sorted(zip(group_data['fusion_length'], group_data['total_count']), reverse=True))\n",
    "\n",
    "    long_count = 0\n",
    "    total_count = 0\n",
    "    for (length, count) in zip(group_data['fusion_length'], group_data['total_count']):\n",
    "        if (length > 10):\n",
    "            long_count += count\n",
    "        total_count += count\n",
    "    print(long_count/total_count*100)\n",
    "\n",
    "for j in range(i + 1, len(axes)):\n",
    "    fig.delaxes(axes[j])\n",
    "\n",
    "plt.tight_layout()\n",
    "plt.savefig(img_path, dpi=100, bbox_inches='tight')\n",
    "plt.show()"
   ]
  }
 ],
 "metadata": {
  "kernelspec": {
   "display_name": "data-analysis",
   "language": "python",
   "name": "python3"
  },
  "language_info": {
   "codemirror_mode": {
    "name": "ipython",
    "version": 3
   },
   "file_extension": ".py",
   "mimetype": "text/x-python",
   "name": "python",
   "nbconvert_exporter": "python",
   "pygments_lexer": "ipython3",
   "version": "undefined.undefined.undefined"
  }
 },
 "nbformat": 4,
 "nbformat_minor": 2
}
