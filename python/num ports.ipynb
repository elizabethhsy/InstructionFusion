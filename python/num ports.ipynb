{
 "cells": [
  {
   "cell_type": "code",
   "execution_count": 26,
   "metadata": {},
   "outputs": [],
   "source": [
    "import numpy as np\n",
    "import matplotlib.pyplot as plt\n",
    "import pandas as pd\n",
    "import math\n",
    "import json\n",
    "import os\n",
    "from matplotlib.ticker import MaxNLocator"
   ]
  },
  {
   "cell_type": "code",
   "execution_count": 27,
   "metadata": {},
   "outputs": [
    {
     "name": "stdout",
     "output_type": "stream",
     "text": [
      "['2025_05_08_14:19:09.987604', '2025_05_08_14:28:26.813704', '2025_05_14_08:14:16.516952', '2025_05_14_09:36:55.196029']\n",
      "defaulting to most recent experiment: 2025_05_14_09:36:55.196029\n"
     ]
    }
   ],
   "source": [
    "with open('config.json') as f:\n",
    "    data = json.load(f)\n",
    "\n",
    "if (data['dirName'] != \"\"):\n",
    "    full_path = f\"{data['dirPath']}/{data['dirName']}\"\n",
    "else:\n",
    "    # get the most recently run experiment\n",
    "    path = data['dirPath']\n",
    "    folder_names = sorted([f for f in os.listdir(path) if os.path.isdir(os.path.join(path, f))])\n",
    "    print(folder_names)\n",
    "    most_recent = folder_names[-1]\n",
    "    print(f\"defaulting to most recent experiment: {most_recent}\")\n",
    "    full_path = f\"{path}/{most_recent}\""
   ]
  },
  {
   "cell_type": "code",
   "execution_count": 28,
   "metadata": {},
   "outputs": [],
   "source": [
    "read_csv_path = f\"{full_path}/numReadPorts.csv\"\n",
    "write_csv_path = f\"{full_path}/numWritePorts.csv\"\n",
    "read_img_path = f\"{full_path}/numReadPorts.png\"\n",
    "write_img_path = f\"{full_path}/numWritePorts.png\""
   ]
  },
  {
   "cell_type": "code",
   "execution_count": 29,
   "metadata": {},
   "outputs": [],
   "source": [
    "read_df = pd.read_csv(read_csv_path)\n",
    "write_df = pd.read_csv(write_csv_path)"
   ]
  },
  {
   "cell_type": "code",
   "execution_count": 30,
   "metadata": {},
   "outputs": [
    {
     "data": {
      "text/html": [
       "<div>\n",
       "<style scoped>\n",
       "    .dataframe tbody tr th:only-of-type {\n",
       "        vertical-align: middle;\n",
       "    }\n",
       "\n",
       "    .dataframe tbody tr th {\n",
       "        vertical-align: top;\n",
       "    }\n",
       "\n",
       "    .dataframe thead th {\n",
       "        text-align: right;\n",
       "    }\n",
       "</style>\n",
       "<table border=\"1\" class=\"dataframe\">\n",
       "  <thead>\n",
       "    <tr style=\"text-align: right;\">\n",
       "      <th></th>\n",
       "      <th>rule_title</th>\n",
       "      <th>rule_description</th>\n",
       "      <th>user_defined_key</th>\n",
       "      <th>file</th>\n",
       "      <th>num_read_ports</th>\n",
       "      <th>count</th>\n",
       "    </tr>\n",
       "  </thead>\n",
       "  <tbody>\n",
       "    <tr>\n",
       "      <th>0</th>\n",
       "      <td>arithmetic end memory/branch</td>\n",
       "      <td>NaN</td>\n",
       "      <td>l-0</td>\n",
       "      <td>astar</td>\n",
       "      <td>0</td>\n",
       "      <td>99578611</td>\n",
       "    </tr>\n",
       "    <tr>\n",
       "      <th>1</th>\n",
       "      <td>arithmetic end memory/branch</td>\n",
       "      <td>NaN</td>\n",
       "      <td>l-0</td>\n",
       "      <td>astar</td>\n",
       "      <td>1</td>\n",
       "      <td>5349582679</td>\n",
       "    </tr>\n",
       "    <tr>\n",
       "      <th>2</th>\n",
       "      <td>arithmetic end memory/branch</td>\n",
       "      <td>NaN</td>\n",
       "      <td>l-0</td>\n",
       "      <td>astar</td>\n",
       "      <td>2</td>\n",
       "      <td>2010054029</td>\n",
       "    </tr>\n",
       "    <tr>\n",
       "      <th>3</th>\n",
       "      <td>arithmetic end memory/branch</td>\n",
       "      <td>NaN</td>\n",
       "      <td>l-0</td>\n",
       "      <td>astar</td>\n",
       "      <td>3</td>\n",
       "      <td>4412947860</td>\n",
       "    </tr>\n",
       "    <tr>\n",
       "      <th>4</th>\n",
       "      <td>arithmetic end memory/branch</td>\n",
       "      <td>NaN</td>\n",
       "      <td>l-0</td>\n",
       "      <td>astar</td>\n",
       "      <td>4</td>\n",
       "      <td>6731934542</td>\n",
       "    </tr>\n",
       "    <tr>\n",
       "      <th>...</th>\n",
       "      <td>...</td>\n",
       "      <td>...</td>\n",
       "      <td>...</td>\n",
       "      <td>...</td>\n",
       "      <td>...</td>\n",
       "      <td>...</td>\n",
       "    </tr>\n",
       "    <tr>\n",
       "      <th>3502</th>\n",
       "      <td>arithmetic end memory/branch</td>\n",
       "      <td>NaN</td>\n",
       "      <td>w-10</td>\n",
       "      <td>xalancbmk</td>\n",
       "      <td>9</td>\n",
       "      <td>2969282</td>\n",
       "    </tr>\n",
       "    <tr>\n",
       "      <th>3503</th>\n",
       "      <td>arithmetic end memory/branch</td>\n",
       "      <td>NaN</td>\n",
       "      <td>w-10</td>\n",
       "      <td>xalancbmk</td>\n",
       "      <td>10</td>\n",
       "      <td>10665047</td>\n",
       "    </tr>\n",
       "    <tr>\n",
       "      <th>3504</th>\n",
       "      <td>arithmetic end memory/branch</td>\n",
       "      <td>NaN</td>\n",
       "      <td>w-10</td>\n",
       "      <td>xalancbmk</td>\n",
       "      <td>11</td>\n",
       "      <td>154996</td>\n",
       "    </tr>\n",
       "    <tr>\n",
       "      <th>3505</th>\n",
       "      <td>arithmetic end memory/branch</td>\n",
       "      <td>NaN</td>\n",
       "      <td>w-10</td>\n",
       "      <td>xalancbmk</td>\n",
       "      <td>12</td>\n",
       "      <td>1805</td>\n",
       "    </tr>\n",
       "    <tr>\n",
       "      <th>3506</th>\n",
       "      <td>arithmetic end memory/branch</td>\n",
       "      <td>NaN</td>\n",
       "      <td>w-10</td>\n",
       "      <td>xalancbmk</td>\n",
       "      <td>14</td>\n",
       "      <td>175021</td>\n",
       "    </tr>\n",
       "  </tbody>\n",
       "</table>\n",
       "<p>3507 rows × 6 columns</p>\n",
       "</div>"
      ],
      "text/plain": [
       "                        rule_title  rule_description user_defined_key  \\\n",
       "0     arithmetic end memory/branch               NaN              l-0   \n",
       "1     arithmetic end memory/branch               NaN              l-0   \n",
       "2     arithmetic end memory/branch               NaN              l-0   \n",
       "3     arithmetic end memory/branch               NaN              l-0   \n",
       "4     arithmetic end memory/branch               NaN              l-0   \n",
       "...                            ...               ...              ...   \n",
       "3502  arithmetic end memory/branch               NaN             w-10   \n",
       "3503  arithmetic end memory/branch               NaN             w-10   \n",
       "3504  arithmetic end memory/branch               NaN             w-10   \n",
       "3505  arithmetic end memory/branch               NaN             w-10   \n",
       "3506  arithmetic end memory/branch               NaN             w-10   \n",
       "\n",
       "           file  num_read_ports       count  \n",
       "0         astar               0    99578611  \n",
       "1         astar               1  5349582679  \n",
       "2         astar               2  2010054029  \n",
       "3         astar               3  4412947860  \n",
       "4         astar               4  6731934542  \n",
       "...         ...             ...         ...  \n",
       "3502  xalancbmk               9     2969282  \n",
       "3503  xalancbmk              10    10665047  \n",
       "3504  xalancbmk              11      154996  \n",
       "3505  xalancbmk              12        1805  \n",
       "3506  xalancbmk              14      175021  \n",
       "\n",
       "[3507 rows x 6 columns]"
      ]
     },
     "execution_count": 30,
     "metadata": {},
     "output_type": "execute_result"
    }
   ],
   "source": [
    "read_df"
   ]
  },
  {
   "cell_type": "code",
   "execution_count": 31,
   "metadata": {},
   "outputs": [],
   "source": [
    "read_grouped = read_df.groupby(['rule_title'], dropna=False, sort=False)\n",
    "write_grouped = write_df.groupby(['rule_title'], dropna=False, sort=False)"
   ]
  },
  {
   "cell_type": "code",
   "execution_count": 32,
   "metadata": {},
   "outputs": [
    {
     "data": {
      "image/png": "[encoded data removed]",
      "text/plain": [
       "<Figure size 4000x500 with 1 Axes>"
      ]
     },
     "metadata": {},
     "output_type": "display_data"
    }
   ],
   "source": [
    "num_groups = len(read_grouped)\n",
    "cols = 4\n",
    "rows = math.ceil(num_groups / cols)\n",
    "fig, axes = plt.subplots(rows, cols, figsize=(40, 5 * rows))\n",
    "axes = axes.flatten()\n",
    "\n",
    "for i, (group_name, group_data) in enumerate(read_grouped):\n",
    "    data = group_data.reset_index()\n",
    "    axes[i].bar(data['num_read_ports'], data['count'])\n",
    "    axes[i].set_title(f'Number of Read Ports VS Dynamic Instruction Count')\n",
    "    axes[i].set_xlabel('Number of Read Ports')\n",
    "    axes[i].set_ylabel('Dynamic Instruction Count')\n",
    "    axes[i].tick_params(axis='x')\n",
    "    axes[i].grid(axis='y')\n",
    "    # axes[i].set_ylim(bottom=0, top=100)\n",
    "\n",
    "for j in range(i + 1, len(axes)):\n",
    "    fig.delaxes(axes[j])\n",
    "\n",
    "# plt.tight_layout()\n",
    "# plt.subplots_adjust(wspace=0.2, hspace=0.5)\n",
    "plt.savefig(read_img_path, dpi=300, bbox_inches='tight')\n",
    "plt.show()"
   ]
  },
  {
   "cell_type": "code",
   "execution_count": 33,
   "metadata": {},
   "outputs": [
    {
     "data": {
      "image/png": "[encoded data removed]",
      "text/plain": [
       "<Figure size 4000x500 with 1 Axes>"
      ]
     },
     "metadata": {},
     "output_type": "display_data"
    }
   ],
   "source": [
    "num_groups = len(write_grouped)\n",
    "cols = 4\n",
    "rows = math.ceil(num_groups / cols)\n",
    "fig, axes = plt.subplots(rows, cols, figsize=(40, 5 * rows))\n",
    "axes = axes.flatten()\n",
    "\n",
    "for i, (group_name, group_data) in enumerate(write_grouped):\n",
    "    data = group_data.reset_index()\n",
    "    axes[i].bar(data['num_write_ports'], data['count'])\n",
    "    axes[i].set_title(f'Number of Write Ports VS Dynamic Instruction Count')\n",
    "    axes[i].set_xlabel('Number of Write Ports')\n",
    "    axes[i].set_ylabel('Dynamic Instruction Count')\n",
    "    axes[i].tick_params(axis='x')\n",
    "    axes[i].grid(axis='y')\n",
    "    axes[i].xaxis.set_major_locator(MaxNLocator(integer=True))\n",
    "    # axes[i].set_ylim(bottom=0, top=100)\n",
    "\n",
    "for j in range(i + 1, len(axes)):\n",
    "    fig.delaxes(axes[j])\n",
    "\n",
    "# plt.tight_layout()\n",
    "# plt.subplots_adjust(wspace=0.2, hspace=0.5)\n",
    "plt.savefig(write_img_path, dpi=300, bbox_inches='tight')\n",
    "plt.show()"
   ]
  }
 ],
 "metadata": {
  "kernelspec": {
   "display_name": "data-analysis",
   "language": "python",
   "name": "python3"
  },
  "language_info": {
   "codemirror_mode": {
    "name": "ipython",
    "version": 3
   },
   "file_extension": ".py",
   "mimetype": "text/x-python",
   "name": "python",
   "nbconvert_exporter": "python",
   "pygments_lexer": "ipython3",
   "version": "3.10.4"
  }
 },
 "nbformat": 4,
 "nbformat_minor": 2
}
