{
 "cells": [
  {
   "cell_type": "markdown",
   "metadata": {},
   "source": [
    "## Find all unique instructions and categorise them"
   ]
  },
  {
   "cell_type": "code",
   "execution_count": 1,
   "metadata": {},
   "outputs": [
    {
     "name": "stdout",
     "output_type": "stream",
     "text": [
      "csv_files=['hmmer.csv', 'omnetpp.csv', 'mcf.csv', 'xalancbmk.csv', 'gobmk.csv', 'libquantum.csv', 'sjeng.csv', 'astar.csv', 'bzip2.csv', 'h264ref.csv']\n",
      "file_names=['hmmer', 'omnetpp', 'mcf', 'xalancbmk', 'gobmk', 'libquantum', 'sjeng', 'astar', 'bzip2', 'h264ref']\n"
     ]
    }
   ],
   "source": [
    "import os\n",
    "\n",
    "files = {}\n",
    "\n",
    "path = '../cleaned data'\n",
    "\n",
    "csv_files = [i for i in os.listdir(path) if i.endswith('.csv')]\n",
    "file_names = [i.split(\".\")[0] for i in csv_files] # the files are in the same order\n",
    "\n",
    "print(f\"csv_files={csv_files}\")\n",
    "print(f\"file_names={file_names}\")"
   ]
  },
  {
   "cell_type": "code",
   "execution_count": 9,
   "metadata": {},
   "outputs": [],
   "source": [
    "# read the csv and import into dataframe objects\n",
    "import pandas as pd\n",
    "\n",
    "dfs = []\n",
    "\n",
    "for file in csv_files:\n",
    "    file_name = file.split(\".\")[0]\n",
    "    df = pd.read_csv(os.path.join(path, file))\n",
    "    dfs.append(df)"
   ]
  },
  {
   "cell_type": "code",
   "execution_count": 10,
   "metadata": {},
   "outputs": [],
   "source": [
    "instructions = pd.concat(dfs)['instruction'].unique()"
   ]
  },
  {
   "cell_type": "code",
   "execution_count": 12,
   "metadata": {},
   "outputs": [],
   "source": [
    "instructions.sort()"
   ]
  },
  {
   "cell_type": "code",
   "execution_count": 14,
   "metadata": {},
   "outputs": [
    {
     "data": {
      "text/plain": [
       "array(['<unknown>', 'add', 'addi', 'addiw', 'addw', 'and', 'andi',\n",
       "       'auipcc', 'beq', 'beqz', 'bge', 'bgeu', 'bgez', 'bgtz', 'blez',\n",
       "       'blt', 'bltu', 'bltz', 'bne', 'bnez', 'c.add', 'c.addi', 'c.addiw',\n",
       "       'c.addw', 'c.and', 'c.andi', 'c.beqz', 'c.bnez', 'c.li', 'c.lui',\n",
       "       'c.mv', 'c.or', 'c.slli', 'c.srai', 'c.srli', 'c.sub', 'c.subw',\n",
       "       'c.xor', 'camoadd.d', 'camoadd.d.aqrl', 'camoadd.w',\n",
       "       'camoadd.w.aqrl', 'camoadd.w.rl', 'candperm', 'cfld', 'cflw',\n",
       "       'cfsd', 'cfsw', 'cgetaddr', 'cgetbase', 'cgetlen', 'cgetoffset',\n",
       "       'cgetsealed', 'cgettag', 'cincoffset', 'cjal', 'cjalr', 'clb',\n",
       "       'clbu', 'clc', 'cld', 'clh', 'clhu', 'clr.b.aq', 'clr.w.aqrl',\n",
       "       'clw', 'clwu', 'cmove', 'cram', 'crepresentablealignmentmask',\n",
       "       'croundrepresentablelength', 'crrl', 'csb', 'csc', 'csc.b',\n",
       "       'csc.w.aqrl', 'csd', 'csealentry', 'csetaddr', 'csetbounds',\n",
       "       'csetboundsexact', 'csetoffset', 'csh', 'cspecialr', 'cspecialrw',\n",
       "       'cspecialw', 'csrrs', 'csub', 'csw', 'divu', 'divuw', 'divw',\n",
       "       'ecall', 'fabs.d', 'fadd.d', 'fadd.s', 'fcvt.d.l', 'fcvt.d.lu',\n",
       "       'fcvt.d.s', 'fcvt.d.w', 'fcvt.d.wu', 'fcvt.l.d', 'fcvt.l.s',\n",
       "       'fcvt.lu.d', 'fcvt.lu.s', 'fcvt.s.d', 'fcvt.s.l', 'fcvt.s.lu',\n",
       "       'fcvt.s.w', 'fcvt.s.wu', 'fcvt.w.d', 'fcvt.w.s', 'fcvt.wu.d',\n",
       "       'fdiv.d', 'fdiv.s', 'fence', 'feq.d', 'feq.s', 'fle.d', 'fle.s',\n",
       "       'flt.d', 'flt.s', 'fmadd.d', 'fmadd.s', 'fmax.d', 'fmax.s',\n",
       "       'fmin.d', 'fmin.s', 'fmsub.d', 'fmul.d', 'fmul.s', 'fmv.d',\n",
       "       'fmv.d.x', 'fmv.s', 'fmv.w.x', 'fmv.x.d', 'fmv.x.w', 'fneg.d',\n",
       "       'fneg.s', 'fnmsub.d', 'frcsr', 'fsgnj.d', 'fsgnj.s', 'fsgnjn.d',\n",
       "       'fsgnjx.d', 'fsgnjx.s', 'fsqrt.d', 'fsub.d', 'fsub.s', 'j', 'jalr',\n",
       "       'jr', 'lui', 'mul', 'mulh', 'mulhu', 'mulw', 'mv', 'neg', 'negw',\n",
       "       'not', 'or', 'ori', 'rdtime', 'rem', 'remu', 'remuw', 'remw',\n",
       "       'ret', 'seqz', 'sext.w', 'sgtz', 'sll', 'slli', 'slliw', 'sllw',\n",
       "       'slt', 'slti', 'sltiu', 'sltu', 'snez', 'srai', 'sraiw', 'sraw',\n",
       "       'srl', 'srli', 'srliw', 'srlw', 'sub', 'subw', 'xor', 'xori'],\n",
       "      dtype=object)"
      ]
     },
     "execution_count": 14,
     "metadata": {},
     "output_type": "execute_result"
    }
   ],
   "source": [
    "instructions"
   ]
  }
 ],
 "metadata": {
  "kernelspec": {
   "display_name": "data-analysis",
   "language": "python",
   "name": "python3"
  },
  "language_info": {
   "codemirror_mode": {
    "name": "ipython",
    "version": 3
   },
   "file_extension": ".py",
   "mimetype": "text/x-python",
   "name": "python",
   "nbconvert_exporter": "python",
   "pygments_lexer": "ipython3",
   "version": "3.10.4"
  }
 },
 "nbformat": 4,
 "nbformat_minor": 2
}
