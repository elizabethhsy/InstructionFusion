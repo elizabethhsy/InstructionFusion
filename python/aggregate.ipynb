{
 "cells": [
  {
   "cell_type": "markdown",
   "metadata": {},
   "source": [
    "# Aggregate\n",
    "\n",
    "Plot fusion results across all files"
   ]
  },
  {
   "cell_type": "code",
   "execution_count": 92,
   "metadata": {},
   "outputs": [],
   "source": [
    "import numpy as np\n",
    "import matplotlib.pyplot as plt\n",
    "import pandas as pd\n",
    "import math\n",
    "import json\n",
    "import os"
   ]
  },
  {
   "cell_type": "code",
   "execution_count": 93,
   "metadata": {},
   "outputs": [
    {
     "name": "stdout",
     "output_type": "stream",
     "text": [
      "['2025_01_03_00:45:11.404211', '2025_01_06_13:50:18.467232', '2025_01_16_11:51:09.457498', '2025_01_16_11:56:25.156789', '2025_01_20_23:20:58.974075', '2025_01_21_12:53:42.004310', '2025_01_31_11:53:15.839558', '2025_01_31_11:59:15.840397', '2025_01_31_12:03:34.432696', '2025_01_31_12:11:07.865410', '2025_01_31_12:13:28.094981', '2025_01_31_12:14:53.868702', '2025_01_31_12:17:54.755357', '2025_01_31_12:20:34.067748', '2025_01_31_12:25:04.471934', '2025_01_31_12:27:30.405486', '2025_01_31_12:55:27.056488', '2025_02_01_00:26:54.678826', '2025_02_01_00:30:22.722884', '2025_02_01_12:03:08.178016', '2025_02_01_12:03:52.787178', '2025_02_01_12:04:25.532501', '2025_02_01_12:06:37.568211', '2025_02_01_12:08:22.229146', '2025_02_01_12:09:41.775555', '2025_02_01_12:11:55.221841', '2025_02_01_15:33:12.499646', '2025_02_04_17:18:47.597629', '2025_02_04_20:03:01.113389', '2025_02_04_20:06:14.868152', '2025_02_04_20:37:58.130596', '2025_02_04_20:39:03.601021', '2025_02_04_20:39:58.719140', '2025_02_04_20:40:32.478660', '2025_02_04_20:45:06.111574', '2025_02_04_20:45:31.402333', '2025_02_04_20:49:45.422073', '2025_02_04_20:54:25.061384', '2025_02_07_11:17:30.921926']\n",
      "defaulting to most recent experiment: 2025_02_07_11:17:30.921926\n"
     ]
    }
   ],
   "source": [
    "with open('config.json') as f:\n",
    "    data = json.load(f)\n",
    "\n",
    "if (data['dirName'] != \"\"):\n",
    "    full_path = f\"{data['dirPath']}/{data['dirName']}\"\n",
    "else:\n",
    "    # get the most recently run experiment\n",
    "    path = data['dirPath']\n",
    "    folder_names = sorted([f for f in os.listdir(path) if os.path.isdir(os.path.join(path, f))])\n",
    "    print(folder_names)\n",
    "    most_recent = folder_names[-1]\n",
    "    print(f\"defaulting to most recent experiment: {most_recent}\")\n",
    "    full_path = f\"{path}/{most_recent}\""
   ]
  },
  {
   "cell_type": "code",
   "execution_count": 94,
   "metadata": {},
   "outputs": [],
   "source": [
    "csv_path = f\"{full_path}/aggregate.csv\"\n",
    "img_path = f\"{full_path}/aggregate.png\""
   ]
  },
  {
   "cell_type": "code",
   "execution_count": 95,
   "metadata": {},
   "outputs": [],
   "source": [
    "df = pd.read_csv(csv_path)"
   ]
  },
  {
   "cell_type": "code",
   "execution_count": 96,
   "metadata": {},
   "outputs": [],
   "source": [
    "# allowed_titles = ['arithmetic end memory/branch', 'arithmetic end memory/branch (I)']\n",
    "# filtered_df = df[df['rule_title'].isin(allowed_titles)]\n",
    "\n",
    "grouped = df.groupby(['rule_title'], dropna=False, sort=False)"
   ]
  },
  {
   "cell_type": "code",
   "execution_count": 97,
   "metadata": {},
   "outputs": [
    {
     "data": {
      "image/png": "[encoded data removed]",
      "text/plain": [
       "<Figure size 2000x500 with 1 Axes>"
      ]
     },
     "metadata": {},
     "output_type": "display_data"
    }
   ],
   "source": [
    "num_groups = len(grouped)\n",
    "cols = 4\n",
    "rows = math.ceil(num_groups / cols)\n",
    "fig, axes = plt.subplots(rows, cols, figsize=(20, 5 * rows))\n",
    "axes = axes.flatten()\n",
    "\n",
    "for i, (group_name, group_data) in enumerate(grouped):\n",
    "    data = group_data.reset_index()\n",
    "    first_value = data['percentage_fused'].iloc[0]\n",
    "    axes[i].axhline(y=first_value, color='red', linestyle='dotted', linewidth=3)\n",
    "    axes[i].bar(data['user_defined_key'][1:101], data['percentage_fused'][1:101])\n",
    "    axes[i].set_title(f'{group_name}')\n",
    "    axes[i].set_xlabel('Maximum Fusable Length')\n",
    "    axes[i].set_ylabel('Fusion Rate (%)')\n",
    "    axes[i].tick_params(axis='x')\n",
    "    axes[i].grid(axis='y')\n",
    "    axes[i].set_ylim(bottom=0, top=100)\n",
    "\n",
    "for j in range(i + 1, len(axes)):\n",
    "    fig.delaxes(axes[j])\n",
    "\n",
    "plt.tight_layout()\n",
    "plt.subplots_adjust(wspace=0.2, hspace=0.5)\n",
    "plt.savefig(img_path, dpi=300, bbox_inches='tight')\n",
    "plt.show()"
   ]
  }
 ],
 "metadata": {
  "kernelspec": {
   "display_name": "data-analysis",
   "language": "python",
   "name": "python3"
  },
  "language_info": {
   "codemirror_mode": {
    "name": "ipython",
    "version": 3
   },
   "file_extension": ".py",
   "mimetype": "text/x-python",
   "name": "python",
   "nbconvert_exporter": "python",
   "pygments_lexer": "ipython3",
   "version": "3.10.4"
  }
 },
 "nbformat": 4,
 "nbformat_minor": 2
}
