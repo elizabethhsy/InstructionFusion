{
 "cells": [
  {
   "cell_type": "markdown",
   "metadata": {},
   "source": [
    "# Instruction Fusion\n",
    "1. arithmetic operations only\n",
    "I need to make a list of all the arithmetic operations that occur\n",
    "Then I iterate through the instructions, and count up instructions that are in that list up until it doesn't anymore\n",
    "Then when it doesn't, I add one to the count, and I output the counts before and after"
   ]
  },
  {
   "cell_type": "markdown",
   "metadata": {},
   "source": [
    "I think that maybe C++ would be better hahahahah\n",
    "I'm starting to hit the limit of how well python notebooks can do\n",
    "\n",
    "I just think it's more convenient to pass data structures around instead of having to constantly read from CSV\n",
    "\n",
    "I think in total it's about 200000 lines of csv?"
   ]
  },
  {
   "cell_type": "code",
   "execution_count": null,
   "metadata": {
    "vscode": {
     "languageId": "plaintext"
    }
   },
   "outputs": [],
   "source": []
  }
 ],
 "metadata": {
  "language_info": {
   "name": "python"
  }
 },
 "nbformat": 4,
 "nbformat_minor": 2
}
